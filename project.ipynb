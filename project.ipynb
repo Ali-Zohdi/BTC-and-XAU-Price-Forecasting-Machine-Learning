{
 "cells": [
  {
   "cell_type": "markdown",
   "metadata": {},
   "source": [
    "### IMPORT REQUIREMENTS"
   ]
  },
  {
   "cell_type": "code",
   "execution_count": 8,
   "metadata": {},
   "outputs": [],
   "source": [
    "import pandas as pd\n",
    "import numpy as np\n",
    "import ta"
   ]
  },
  {
   "cell_type": "code",
   "execution_count": 13,
   "metadata": {},
   "outputs": [],
   "source": [
    "XAU = pd.read_csv('./XAU_USD Historical Data.csv')\n",
    "BTC = pd.read_csv('./Bitcoin Historical Data.csv')"
   ]
  },
  {
   "cell_type": "markdown",
   "metadata": {},
   "source": [
    "### DATA PREPROCESSING"
   ]
  },
  {
   "cell_type": "code",
   "execution_count": 15,
   "metadata": {},
   "outputs": [],
   "source": [
    "def df_preprocess(df):\n",
    "\n",
    "    # change 'Date' to datetime format & sort by 'Date'\n",
    "    df['Date'] = pd.to_datetime(df['Date'])\n",
    "    df.sort_values(by='Date', inplace=True)\n",
    "\n",
    "    # change data type to float\n",
    "    df['High'] = df['High'].str.replace(',', '').astype(float)\n",
    "    df['Low'] = df['Low'].str.replace(',', '').astype(float)\n",
    "    df['Open'] = df['Open'].str.replace(',', '').astype(float)\n",
    "    df['Price'] = df['Price'].str.replace(',', '').astype(float)\n",
    "    \n",
    "    df['Change %'] = df['Change %'].str.rstrip('%').astype('float') / 100.0\n",
    "\n",
    "    df.replace(np.nan, '12345.12345', inplace=True)\n",
    "    df[df['Vol.'] == '12345.12345']\n",
    "    df['Volume'] = df['Vol.'].str[:-1].astype(float)\n",
    "    df['m'] = df['Vol.'].str[-1]\n",
    "    change_value = {'K': 1000, 'M': 1000000, 'B': 1000000000, '5': 1}\n",
    "    df['m'] = df['m'].map(change_value)\n",
    "    df['Vol.'] = df['Volume']*df['m']\n",
    "    df.replace(12345.1234, np.nan, inplace=True)\n",
    "    df.drop(['Volume', 'm'], axis=1, inplace=True)\n",
    "\n",
    "    return df\n",
    "\n",
    "XAU = df_preprocess(XAU)\n",
    "BTC = df_preprocess(BTC)"
   ]
  },
  {
   "cell_type": "code",
   "execution_count": 20,
   "metadata": {},
   "outputs": [],
   "source": [
    "XAU_backup = XAU.copy()\n",
    "BTC_backup = BTC.copy()"
   ]
  },
  {
   "cell_type": "markdown",
   "metadata": {},
   "source": [
    "* Technical Feature Extraction"
   ]
  },
  {
   "cell_type": "code",
   "execution_count": null,
   "metadata": {},
   "outputs": [],
   "source": [
    "ta.trend.EMAIndicator(close=df['Price'], window=14)\n",
    "ta.trend.EMAIndicator(close=df['Price'], window=50)\n",
    "ta.trend.EMAIndicator(close=df['Price'], window=120)\n",
    "\n",
    "ta.momentum.RSIIndicator(close=df['Price'], window=28)\n",
    "# moving average of the RSI value for 14 length"
   ]
  }
 ],
 "metadata": {
  "kernelspec": {
   "display_name": "Python 3",
   "language": "python",
   "name": "python3"
  },
  "language_info": {
   "codemirror_mode": {
    "name": "ipython",
    "version": 3
   },
   "file_extension": ".py",
   "mimetype": "text/x-python",
   "name": "python",
   "nbconvert_exporter": "python",
   "pygments_lexer": "ipython3",
   "version": "3.11.5"
  },
  "orig_nbformat": 4
 },
 "nbformat": 4,
 "nbformat_minor": 2
}
